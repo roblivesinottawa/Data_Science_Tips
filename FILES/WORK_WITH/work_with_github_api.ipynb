{
 "cells": [
  {
   "cell_type": "code",
   "execution_count": 1,
   "source": [
    "import requests\n",
    "import json\n",
    "from pprint import pprint as pp"
   ],
   "outputs": [],
   "metadata": {}
  },
  {
   "cell_type": "code",
   "execution_count": 2,
   "source": [
    "res = requests.get('https://api.github.com/repos/bsullins/data/contents/monthlySalesbyCategoryMultiple.json')\n"
   ],
   "outputs": [],
   "metadata": {}
  },
  {
   "cell_type": "code",
   "execution_count": 4,
   "source": [
    "res.json()"
   ],
   "outputs": [
    {
     "output_type": "execute_result",
     "data": {
      "text/plain": [
       "{'name': 'monthlySalesbyCategoryMultiple.json',\n",
       " 'path': 'monthlySalesbyCategoryMultiple.json',\n",
       " 'sha': '908f6d5411494915e948f145cb9fbb8bcae4f225',\n",
       " 'size': 1682,\n",
       " 'url': 'https://api.github.com/repos/bsullins/data/contents/monthlySalesbyCategoryMultiple.json?ref=master',\n",
       " 'html_url': 'https://github.com/bsullins/data/blob/master/monthlySalesbyCategoryMultiple.json',\n",
       " 'git_url': 'https://api.github.com/repos/bsullins/data/git/blobs/908f6d5411494915e948f145cb9fbb8bcae4f225',\n",
       " 'download_url': 'https://raw.githubusercontent.com/bsullins/data/master/monthlySalesbyCategoryMultiple.json',\n",
       " 'type': 'file',\n",
       " 'content': 'eyAiY29udGVudHMiOiBbCiAgewogICAgImNhdGVnb3J5IjogIkZ1cm5pdHVy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\\nIH0KICAgIF0KICB9Cl19IAo=\\n',\n",
       " 'encoding': 'base64',\n",
       " '_links': {'self': 'https://api.github.com/repos/bsullins/data/contents/monthlySalesbyCategoryMultiple.json?ref=master',\n",
       "  'git': 'https://api.github.com/repos/bsullins/data/git/blobs/908f6d5411494915e948f145cb9fbb8bcae4f225',\n",
       "  'html': 'https://github.com/bsullins/data/blob/master/monthlySalesbyCategoryMultiple.json'}}"
      ]
     },
     "metadata": {},
     "execution_count": 4
    }
   ],
   "metadata": {}
  },
  {
   "cell_type": "code",
   "execution_count": 6,
   "source": [
    "resp_json = res.json()"
   ],
   "outputs": [],
   "metadata": {}
  },
  {
   "cell_type": "code",
   "execution_count": 7,
   "source": [
    "val = resp_json['content']"
   ],
   "outputs": [],
   "metadata": {}
  },
  {
   "cell_type": "code",
   "execution_count": 8,
   "source": [
    "pp(val)"
   ],
   "outputs": [
    {
     "output_type": "stream",
     "name": "stdout",
     "text": [
      "('eyAiY29udGVudHMiOiBbCiAgewogICAgImNhdGVnb3J5IjogIkZ1cm5pdHVy\\n'\n",
      " 'ZSIsCiAgICAicmVnaW9uIjogIldlc3QiLAogICAgIm1vbnRobHlTYWxlcyI6\\n'\n",
      " 'CgogICAgICBbewogICAgICAgICJtb250aCI6MjAxMzAxMDEsCiAgICAgICAg\\n'\n",
      " 'InNhbGVzIjozOAogICAgICB9LAogICAgICB7CiAgICAgICAgIm1vbnRoIjoy\\n'\n",
      " 'MDEzMDIwMSwKICAgICAgICAic2FsZXMiOjM1CiAgICAgIH0sCiAgICAgIHsK\\n'\n",
      " 'ICAgICAgICAibW9udGgiOjIwMTMwMzAxLAogICAgICAgICJzYWxlcyI6NDEK\\n'\n",
      " 'ICAgICAgfSwKICAgICAgewogICAgICAgICJtb250aCI6MjAxMzA0MDEsCiAg\\n'\n",
      " 'ICAgICAgInNhbGVzIjo1NQogICAgICB9LAogICAgICB7CiAgICAgICAgIm1v\\n'\n",
      " 'bnRoIjoyMDEzMDUwMSwKICAgICAgICAic2FsZXMiOjU4CiAgICAgIH0sCiAg\\n'\n",
      " 'ICAgIHsKICAgICAgICAibW9udGgiOjIwMTMwNjAxLAogICAgICAgICJzYWxl\\n'\n",
      " 'cyI6NjYKICAgICAgfSwKICAgICAgewogICAgICAgICJtb250aCI6MjAxMzA3\\n'\n",
      " 'MDEsCiAgICAgICAgInNhbGVzIjo3NAogICAgICB9LAogICAgICB7CiAgICAg\\n'\n",
      " 'ICAgIm1vbnRoIjoyMDEzMDgwMSwKICAgICAgICAic2FsZXMiOjc4CiAgICAg\\n'\n",
      " 'IH0sCiAgICAgIHsKICAgICAgICAibW9udGgiOjIwMTMwOTAxLAogICAgICAg\\n'\n",
      " 'ICJzYWxlcyI6MzgKICAgICAgfSwKICAgICAgewogICAgICAgICJtb250aCI6\\n'\n",
      " 'MjAxMzEwMDEsCiAgICAgICAgInNhbGVzIjozMAogICAgICB9LAogICAgICB7\\n'\n",
      " 'CiAgICAgICAgIm1vbnRoIjoyMDEzMTEwMSwKICAgICAgICAic2FsZXMiOjI2\\n'\n",
      " 'CiAgICAgIH0sCiAgICAgIHsKICAgICAgICAibW9udGgiOjIwMTMxMjAxLAog\\n'\n",
      " 'ICAgICAgICJzYWxlcyI6MjkKICAgICAgfQogICAgXQogIH0sCiAgewogICAg\\n'\n",
      " 'ImNhdGVnb3J5IjogIlRlY2hub2xvZ3kiLAogICAgInJlZ2lvbiI6ICJXZXN0\\n'\n",
      " 'IiwKICAgICJtb250aGx5U2FsZXMiOgoKICAgICAgW3sKICAgICAgICAibW9u\\n'\n",
      " 'dGgiOjIwMTMwMTAxLAogICAgICAgICJzYWxlcyI6NTQKICAgICAgfSwKICAg\\n'\n",
      " 'ICAgewogICAgICAgICJtb250aCI6MjAxMzAyMDEsCiAgICAgICAgInNhbGVz\\n'\n",
      " 'Ijo2NgogICAgICB9LAogICAgICB7CiAgICAgICAgIm1vbnRoIjoyMDEzMDMw\\n'\n",
      " 'MSwKICAgICAgICAic2FsZXMiOjc3CiAgICAgIH0sCiAgICAgIHsKICAgICAg\\n'\n",
      " 'ICAibW9udGgiOjIwMTMwNDAxLAogICAgICAgICJzYWxlcyI6NzAKICAgICAg\\n'\n",
      " 'fSwKICAgICAgewogICAgICAgICJtb250aCI6MjAxMzA1MDEsCiAgICAgICAg\\n'\n",
      " 'InNhbGVzIjo2MAogICAgICB9LAogICAgICB7CiAgICAgICAgIm1vbnRoIjoy\\n'\n",
      " 'MDEzMDYwMSwKICAgICAgICAic2FsZXMiOjYzCiAgICAgIH0sCiAgICAgIHsK\\n'\n",
      " 'ICAgICAgICAibW9udGgiOjIwMTMwNzAxLAogICAgICAgICJzYWxlcyI6NTUK\\n'\n",
      " 'ICAgICAgfSwKICAgICAgewogICAgICAgICJtb250aCI6MjAxMzA4MDEsCiAg\\n'\n",
      " 'ICAgICAgInNhbGVzIjo0NwogICAgICB9LAogICAgICB7CiAgICAgICAgIm1v\\n'\n",
      " 'bnRoIjoyMDEzMDkwMSwKICAgICAgICAic2FsZXMiOjU1CiAgICAgIH0sCiAg\\n'\n",
      " 'ICAgIHsKICAgICAgICAibW9udGgiOjIwMTMxMDAxLAogICAgICAgICJzYWxl\\n'\n",
      " 'cyI6MzAKICAgICAgfSwKICAgICAgewogICAgICAgICJtb250aCI6MjAxMzEx\\n'\n",
      " 'MDEsCiAgICAgICAgInNhbGVzIjoyMgogICAgICB9LAogICAgICB7CiAgICAg\\n'\n",
      " 'ICAgIm1vbnRoIjoyMDEzMTIwMSwKICAgICAgICAic2FsZXMiOjc3CiAgICAg\\n'\n",
      " 'IH0KICAgIF0KICB9Cl19IAo=\\n')\n"
     ]
    }
   ],
   "metadata": {}
  },
  {
   "cell_type": "code",
   "execution_count": 9,
   "source": [
    "for x in resp_json['content']:\n",
    "    for y in x['monthlySales']:\n",
    "        for k, v in y.items():\n",
    "            print(f\"{k}: {v}\")"
   ],
   "outputs": [
    {
     "output_type": "error",
     "ename": "TypeError",
     "evalue": "string indices must be integers",
     "traceback": [
      "\u001b[0;31m---------------------------------------------------------------------------\u001b[0m",
      "\u001b[0;31mTypeError\u001b[0m                                 Traceback (most recent call last)",
      "\u001b[0;32m<ipython-input-9-366306e4770d>\u001b[0m in \u001b[0;36m<module>\u001b[0;34m\u001b[0m\n\u001b[1;32m      1\u001b[0m \u001b[0;32mfor\u001b[0m \u001b[0mx\u001b[0m \u001b[0;32min\u001b[0m \u001b[0mresp_json\u001b[0m\u001b[0;34m[\u001b[0m\u001b[0;34m'content'\u001b[0m\u001b[0;34m]\u001b[0m\u001b[0;34m:\u001b[0m\u001b[0;34m\u001b[0m\u001b[0;34m\u001b[0m\u001b[0m\n\u001b[0;32m----> 2\u001b[0;31m     \u001b[0;32mfor\u001b[0m \u001b[0my\u001b[0m \u001b[0;32min\u001b[0m \u001b[0mx\u001b[0m\u001b[0;34m[\u001b[0m\u001b[0;34m'monthlySales'\u001b[0m\u001b[0;34m]\u001b[0m\u001b[0;34m:\u001b[0m\u001b[0;34m\u001b[0m\u001b[0;34m\u001b[0m\u001b[0m\n\u001b[0m\u001b[1;32m      3\u001b[0m         \u001b[0;32mfor\u001b[0m \u001b[0mk\u001b[0m\u001b[0;34m,\u001b[0m \u001b[0mv\u001b[0m \u001b[0;32min\u001b[0m \u001b[0my\u001b[0m\u001b[0;34m.\u001b[0m\u001b[0mitems\u001b[0m\u001b[0;34m(\u001b[0m\u001b[0;34m)\u001b[0m\u001b[0;34m:\u001b[0m\u001b[0;34m\u001b[0m\u001b[0;34m\u001b[0m\u001b[0m\n\u001b[1;32m      4\u001b[0m             \u001b[0mprint\u001b[0m\u001b[0;34m(\u001b[0m\u001b[0;34mf\"{k}: {v}\"\u001b[0m\u001b[0;34m)\u001b[0m\u001b[0;34m\u001b[0m\u001b[0;34m\u001b[0m\u001b[0m\n",
      "\u001b[0;31mTypeError\u001b[0m: string indices must be integers"
     ]
    }
   ],
   "metadata": {}
  },
  {
   "cell_type": "code",
   "execution_count": 10,
   "source": [
    "response = requests.get('https://api.github.com/repos/bsullins/data/contents/MonthlySales.csv')"
   ],
   "outputs": [],
   "metadata": {}
  },
  {
   "cell_type": "code",
   "execution_count": 11,
   "source": [
    "res_json = json.loads(response.text)"
   ],
   "outputs": [],
   "metadata": {}
  },
  {
   "cell_type": "code",
   "execution_count": 12,
   "source": [
    "csv_val = res_json['content']"
   ],
   "outputs": [],
   "metadata": {}
  },
  {
   "cell_type": "code",
   "execution_count": 18,
   "source": [
    "import csv \n",
    "import io\n",
    "\n",
    "csv_dict = csv.DictReader(io.StringIO(csv_val))\n",
    "dict_list = [a for a in csv_dict]"
   ],
   "outputs": [],
   "metadata": {}
  },
  {
   "cell_type": "code",
   "execution_count": 19,
   "source": [
    "for a in dict_list:\n",
    "    print(a)"
   ],
   "outputs": [
    {
     "output_type": "stream",
     "name": "stdout",
     "text": [
      "{'bW9udGgsc2FsZXMNCjIwMTMtMDEtMDEsMTQyMzYuOQ0KMjAxMy0wMi0wMSw0': 'NTE5Ljg5DQoyMDEzLTAzLTAxLDU1NjkxLjAxDQoyMDEzLTA0LTAxLDI4Mjk1'}\n",
      "{'bW9udGgsc2FsZXMNCjIwMTMtMDEtMDEsMTQyMzYuOQ0KMjAxMy0wMi0wMSw0': 'LjM1DQoyMDEzLTA1LTAxLDIzNjQ4LjI5DQoyMDEzLTA2LTAxLDM0NTk1LjEz'}\n",
      "{'bW9udGgsc2FsZXMNCjIwMTMtMDEtMDEsMTQyMzYuOQ0KMjAxMy0wMi0wMSw0': 'DQoyMDEzLTA3LTAxLDMzOTQ2LjM5DQoyMDEzLTA4LTAxLDI3OTA5LjQ3DQoy'}\n",
      "{'bW9udGgsc2FsZXMNCjIwMTMtMDEtMDEsMTQyMzYuOQ0KMjAxMy0wMi0wMSw0': 'MDEzLTA5LTAxLDgxNzc3LjM1DQoyMDEzLTEwLTAxLDMxNDUzLjM5DQoyMDEz'}\n",
      "{'bW9udGgsc2FsZXMNCjIwMTMtMDEtMDEsMTQyMzYuOQ0KMjAxMy0wMi0wMSw0': 'LTExLTAxLDc4NjI4LjcyDQoyMDEzLTEyLTAxLDY5NTQ1LjYyDQoyMDE0LTAx'}\n",
      "{'bW9udGgsc2FsZXMNCjIwMTMtMDEtMDEsMTQyMzYuOQ0KMjAxMy0wMi0wMSw0': 'LTAxLDE4MTc0LjA4DQoyMDE0LTAyLTAxLDExOTUxLjQxDQoyMDE0LTAzLTAx'}\n",
      "{'bW9udGgsc2FsZXMNCjIwMTMtMDEtMDEsMTQyMzYuOQ0KMjAxMy0wMi0wMSw0': 'LDM4NzI2LjI1DQoyMDE0LTA0LTAxLDM0MTk1LjIxDQoyMDE0LTA1LTAxLDMw'}\n",
      "{'bW9udGgsc2FsZXMNCjIwMTMtMDEtMDEsMTQyMzYuOQ0KMjAxMy0wMi0wMSw0': 'MTMxLjY5DQoyMDE0LTA2LTAxLDI0Nzk3LjI5DQoyMDE0LTA3LTAxLDI4NzY1'}\n",
      "{'bW9udGgsc2FsZXMNCjIwMTMtMDEtMDEsMTQyMzYuOQ0KMjAxMy0wMi0wMSw0': 'LjMzDQoyMDE0LTA4LTAxLDM2ODk4LjMzDQoyMDE0LTA5LTAxLDY0NTk1Ljky'}\n",
      "{'bW9udGgsc2FsZXMNCjIwMTMtMDEtMDEsMTQyMzYuOQ0KMjAxMy0wMi0wMSw0': 'DQoyMDE0LTEwLTAxLDMxNDA0LjkyDQoyMDE0LTExLTAxLDc1OTcyLjU2DQoy'}\n",
      "{'bW9udGgsc2FsZXMNCjIwMTMtMDEtMDEsMTQyMzYuOQ0KMjAxMy0wMi0wMSw0': 'MDE0LTEyLTAxLDc0OTE5LjUyDQoyMDE1LTAxLTAxLDE4NTQyLjQ5DQoyMDE1'}\n",
      "{'bW9udGgsc2FsZXMNCjIwMTMtMDEtMDEsMTQyMzYuOQ0KMjAxMy0wMi0wMSw0': 'LTAyLTAxLDIyODY3LjcxDQoyMDE1LTAzLTAxLDUxMTg2LjIyDQoyMDE1LTA0'}\n",
      "{'bW9udGgsc2FsZXMNCjIwMTMtMDEtMDEsMTQyMzYuOQ0KMjAxMy0wMi0wMSw0': 'LTAxLDM5MjQ4LjU5DQoyMDE1LTA1LTAxLDU2NjkxLjA4DQoyMDE1LTA2LTAx'}\n",
      "{'bW9udGgsc2FsZXMNCjIwMTMtMDEtMDEsMTQyMzYuOQ0KMjAxMy0wMi0wMSw0': 'LDM5NDMwLjQ0DQoyMDE1LTA3LTAxLDM4NDQwLjc2DQoyMDE1LTA4LTAxLDMz'}\n",
      "{'bW9udGgsc2FsZXMNCjIwMTMtMDEtMDEsMTQyMzYuOQ0KMjAxMy0wMi0wMSw0': 'MjY1LjU2DQoyMDE1LTA5LTAxLDcyOTA4LjExDQoyMDE1LTEwLTAxLDU2NDYz'}\n",
      "{'bW9udGgsc2FsZXMNCjIwMTMtMDEtMDEsMTQyMzYuOQ0KMjAxMy0wMi0wMSw0': 'LjEzDQoyMDE1LTExLTAxLDgyMTkyLjMyDQoyMDE1LTEyLTAxLDk3MjM3LjQy'}\n",
      "{'bW9udGgsc2FsZXMNCjIwMTMtMDEtMDEsMTQyMzYuOQ0KMjAxMy0wMi0wMSw0': 'DQoyMDE2LTAxLTAxLDQ0NzAzLjE0DQoyMDE2LTAyLTAxLDIwMzAxLjEzDQoy'}\n",
      "{'bW9udGgsc2FsZXMNCjIwMTMtMDEtMDEsMTQyMzYuOQ0KMjAxMy0wMi0wMSw0': 'MDE2LTAzLTAxLDU4ODcyLjM1DQoyMDE2LTA0LTAxLDM2NTIxLjU0DQoyMDE2'}\n",
      "{'bW9udGgsc2FsZXMNCjIwMTMtMDEtMDEsMTQyMzYuOQ0KMjAxMy0wMi0wMSw0': 'LTA1LTAxLDQ0MjYxLjExDQoyMDE2LTA2LTAxLDUyOTgxLjczDQoyMDE2LTA3'}\n",
      "{'bW9udGgsc2FsZXMNCjIwMTMtMDEtMDEsMTQyMzYuOQ0KMjAxMy0wMi0wMSw0': 'LTAxLDQ1MjY0LjQyDQoyMDE2LTA4LTAxLDYzMTIwLjg5DQoyMDE2LTA5LTAx'}\n",
      "{'bW9udGgsc2FsZXMNCjIwMTMtMDEtMDEsMTQyMzYuOQ0KMjAxMy0wMi0wMSw0': 'LDg3ODY2LjY1DQoyMDE2LTEwLTAxLDc3Nzc2LjkyDQoyMDE2LTExLTAxLDEx'}\n",
      "{'bW9udGgsc2FsZXMNCjIwMTMtMDEtMDEsMTQyMzYuOQ0KMjAxMy0wMi0wMSw0': 'ODQ0Ny44Mw0KMjAxNi0xMi0wMSw4MzgyOS4zMg=='}\n"
     ]
    }
   ],
   "metadata": {}
  },
  {
   "cell_type": "code",
   "execution_count": 15,
   "source": [
    "for a in dict_list:\n",
    "    for k, v in a.items():\n",
    "        print(f\"{k}: {v}\")\n",
    "    print(\"\\n\")"
   ],
   "outputs": [
    {
     "output_type": "stream",
     "name": "stdout",
     "text": [
      "bW9udGgsc2FsZXMNCjIwMTMtMDEtMDEsMTQyMzYuOQ0KMjAxMy0wMi0wMSw0: NTE5Ljg5DQoyMDEzLTAzLTAxLDU1NjkxLjAxDQoyMDEzLTA0LTAxLDI4Mjk1\n",
      "\n",
      "\n",
      "bW9udGgsc2FsZXMNCjIwMTMtMDEtMDEsMTQyMzYuOQ0KMjAxMy0wMi0wMSw0: LjM1DQoyMDEzLTA1LTAxLDIzNjQ4LjI5DQoyMDEzLTA2LTAxLDM0NTk1LjEz\n",
      "\n",
      "\n",
      "bW9udGgsc2FsZXMNCjIwMTMtMDEtMDEsMTQyMzYuOQ0KMjAxMy0wMi0wMSw0: DQoyMDEzLTA3LTAxLDMzOTQ2LjM5DQoyMDEzLTA4LTAxLDI3OTA5LjQ3DQoy\n",
      "\n",
      "\n",
      "bW9udGgsc2FsZXMNCjIwMTMtMDEtMDEsMTQyMzYuOQ0KMjAxMy0wMi0wMSw0: MDEzLTA5LTAxLDgxNzc3LjM1DQoyMDEzLTEwLTAxLDMxNDUzLjM5DQoyMDEz\n",
      "\n",
      "\n",
      "bW9udGgsc2FsZXMNCjIwMTMtMDEtMDEsMTQyMzYuOQ0KMjAxMy0wMi0wMSw0: LTExLTAxLDc4NjI4LjcyDQoyMDEzLTEyLTAxLDY5NTQ1LjYyDQoyMDE0LTAx\n",
      "\n",
      "\n",
      "bW9udGgsc2FsZXMNCjIwMTMtMDEtMDEsMTQyMzYuOQ0KMjAxMy0wMi0wMSw0: LTAxLDE4MTc0LjA4DQoyMDE0LTAyLTAxLDExOTUxLjQxDQoyMDE0LTAzLTAx\n",
      "\n",
      "\n",
      "bW9udGgsc2FsZXMNCjIwMTMtMDEtMDEsMTQyMzYuOQ0KMjAxMy0wMi0wMSw0: LDM4NzI2LjI1DQoyMDE0LTA0LTAxLDM0MTk1LjIxDQoyMDE0LTA1LTAxLDMw\n",
      "\n",
      "\n",
      "bW9udGgsc2FsZXMNCjIwMTMtMDEtMDEsMTQyMzYuOQ0KMjAxMy0wMi0wMSw0: MTMxLjY5DQoyMDE0LTA2LTAxLDI0Nzk3LjI5DQoyMDE0LTA3LTAxLDI4NzY1\n",
      "\n",
      "\n",
      "bW9udGgsc2FsZXMNCjIwMTMtMDEtMDEsMTQyMzYuOQ0KMjAxMy0wMi0wMSw0: LjMzDQoyMDE0LTA4LTAxLDM2ODk4LjMzDQoyMDE0LTA5LTAxLDY0NTk1Ljky\n",
      "\n",
      "\n",
      "bW9udGgsc2FsZXMNCjIwMTMtMDEtMDEsMTQyMzYuOQ0KMjAxMy0wMi0wMSw0: DQoyMDE0LTEwLTAxLDMxNDA0LjkyDQoyMDE0LTExLTAxLDc1OTcyLjU2DQoy\n",
      "\n",
      "\n",
      "bW9udGgsc2FsZXMNCjIwMTMtMDEtMDEsMTQyMzYuOQ0KMjAxMy0wMi0wMSw0: MDE0LTEyLTAxLDc0OTE5LjUyDQoyMDE1LTAxLTAxLDE4NTQyLjQ5DQoyMDE1\n",
      "\n",
      "\n",
      "bW9udGgsc2FsZXMNCjIwMTMtMDEtMDEsMTQyMzYuOQ0KMjAxMy0wMi0wMSw0: LTAyLTAxLDIyODY3LjcxDQoyMDE1LTAzLTAxLDUxMTg2LjIyDQoyMDE1LTA0\n",
      "\n",
      "\n",
      "bW9udGgsc2FsZXMNCjIwMTMtMDEtMDEsMTQyMzYuOQ0KMjAxMy0wMi0wMSw0: LTAxLDM5MjQ4LjU5DQoyMDE1LTA1LTAxLDU2NjkxLjA4DQoyMDE1LTA2LTAx\n",
      "\n",
      "\n",
      "bW9udGgsc2FsZXMNCjIwMTMtMDEtMDEsMTQyMzYuOQ0KMjAxMy0wMi0wMSw0: LDM5NDMwLjQ0DQoyMDE1LTA3LTAxLDM4NDQwLjc2DQoyMDE1LTA4LTAxLDMz\n",
      "\n",
      "\n",
      "bW9udGgsc2FsZXMNCjIwMTMtMDEtMDEsMTQyMzYuOQ0KMjAxMy0wMi0wMSw0: MjY1LjU2DQoyMDE1LTA5LTAxLDcyOTA4LjExDQoyMDE1LTEwLTAxLDU2NDYz\n",
      "\n",
      "\n",
      "bW9udGgsc2FsZXMNCjIwMTMtMDEtMDEsMTQyMzYuOQ0KMjAxMy0wMi0wMSw0: LjEzDQoyMDE1LTExLTAxLDgyMTkyLjMyDQoyMDE1LTEyLTAxLDk3MjM3LjQy\n",
      "\n",
      "\n",
      "bW9udGgsc2FsZXMNCjIwMTMtMDEtMDEsMTQyMzYuOQ0KMjAxMy0wMi0wMSw0: DQoyMDE2LTAxLTAxLDQ0NzAzLjE0DQoyMDE2LTAyLTAxLDIwMzAxLjEzDQoy\n",
      "\n",
      "\n",
      "bW9udGgsc2FsZXMNCjIwMTMtMDEtMDEsMTQyMzYuOQ0KMjAxMy0wMi0wMSw0: MDE2LTAzLTAxLDU4ODcyLjM1DQoyMDE2LTA0LTAxLDM2NTIxLjU0DQoyMDE2\n",
      "\n",
      "\n",
      "bW9udGgsc2FsZXMNCjIwMTMtMDEtMDEsMTQyMzYuOQ0KMjAxMy0wMi0wMSw0: LTA1LTAxLDQ0MjYxLjExDQoyMDE2LTA2LTAxLDUyOTgxLjczDQoyMDE2LTA3\n",
      "\n",
      "\n",
      "bW9udGgsc2FsZXMNCjIwMTMtMDEtMDEsMTQyMzYuOQ0KMjAxMy0wMi0wMSw0: LTAxLDQ1MjY0LjQyDQoyMDE2LTA4LTAxLDYzMTIwLjg5DQoyMDE2LTA5LTAx\n",
      "\n",
      "\n",
      "bW9udGgsc2FsZXMNCjIwMTMtMDEtMDEsMTQyMzYuOQ0KMjAxMy0wMi0wMSw0: LDg3ODY2LjY1DQoyMDE2LTEwLTAxLDc3Nzc2LjkyDQoyMDE2LTExLTAxLDEx\n",
      "\n",
      "\n",
      "bW9udGgsc2FsZXMNCjIwMTMtMDEtMDEsMTQyMzYuOQ0KMjAxMy0wMi0wMSw0: ODQ0Ny44Mw0KMjAxNi0xMi0wMSw4MzgyOS4zMg==\n",
      "\n",
      "\n"
     ]
    }
   ],
   "metadata": {}
  },
  {
   "cell_type": "code",
   "execution_count": null,
   "source": [],
   "outputs": [],
   "metadata": {}
  }
 ],
 "metadata": {
  "orig_nbformat": 4,
  "language_info": {
   "name": "python",
   "version": "3.9.6",
   "mimetype": "text/x-python",
   "codemirror_mode": {
    "name": "ipython",
    "version": 3
   },
   "pygments_lexer": "ipython3",
   "nbconvert_exporter": "python",
   "file_extension": ".py"
  },
  "kernelspec": {
   "name": "python3",
   "display_name": "Python 3.9.6 64-bit"
  },
  "interpreter": {
   "hash": "7812ea015bdcee6f23a998adcdd2ef97c151c0c241b7b7070987d9313e41299d"
  }
 },
 "nbformat": 4,
 "nbformat_minor": 2
}