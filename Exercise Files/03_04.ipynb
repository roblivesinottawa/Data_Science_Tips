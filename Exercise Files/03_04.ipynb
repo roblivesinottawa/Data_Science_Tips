{
 "cells": [
  {
   "cell_type": "code",
   "execution_count": null,
   "source": [
    "# Start by importing our libraries\n",
    "%matplotlib inline\n",
    "from ggplot import *"
   ],
   "outputs": [],
   "metadata": {}
  },
  {
   "cell_type": "code",
   "execution_count": null,
   "source": [
    "# Let's start w/ a scatterplot\n",
    "ggplot(mpg, aes(x='cty', y='hwy')) + geom_point()"
   ],
   "outputs": [],
   "metadata": {}
  },
  {
   "cell_type": "code",
   "execution_count": null,
   "source": [
    "# Let's add a title\n",
    "ggplot(mpg, aes(x='cty', y='hwy')) + geom_point() + \\\n",
    "    ggtitle(\"City vs. Highway Miles per Gallon\")"
   ],
   "outputs": [],
   "metadata": {}
  },
  {
   "cell_type": "code",
   "execution_count": null,
   "source": [
    "# Now let's add some custom labels\n",
    "ggplot(mpg, aes(x='cty', y='hwy')) + geom_point() + ggtitle(\"City vs. Highway Miles per Gallon\") + \\\n",
    "    xlab(\"City MPG (Miles per Gallon)\") + \\\n",
    "    ylab(\"Highway MPG (Miles per Gallon)\")"
   ],
   "outputs": [],
   "metadata": {}
  },
  {
   "cell_type": "code",
   "execution_count": null,
   "source": [
    "# Color might help here\n",
    "ggplot(mpg, aes(x='cty', y='hwy', color='class')) + geom_point() + ggtitle(\"City vs. Highway Miles per Gallon\") + \\\n",
    "    xlab(\"City MPG (Miles per Gallon)\") + \\\n",
    "    ylab(\"Highway MPG (Miles per Gallon)\") + \\\n",
    "    scale_color_brewer(type='qual')"
   ],
   "outputs": [],
   "metadata": {}
  },
  {
   "cell_type": "code",
   "execution_count": null,
   "source": [
    "# How about splitting these out?\n",
    "ggplot(mpg, aes(x='cty', y='hwy', color='class')) + geom_point() + ggtitle(\"City vs. Highway Miles per Gallon\") + \\\n",
    "    xlab(\"City MPG (Miles per Gallon)\") + \\\n",
    "    ylab(\"Highway MPG (Miles per Gallon)\") + \\\n",
    "    scale_color_brewer(type='qual') + \\\n",
    "    facet_wrap(x='year',y='cyl')"
   ],
   "outputs": [],
   "metadata": {}
  },
  {
   "cell_type": "code",
   "execution_count": null,
   "source": [],
   "outputs": [],
   "metadata": {
    "collapsed": true
   }
  }
 ],
 "metadata": {
  "anaconda-cloud": {},
  "kernelspec": {
   "display_name": "Python 2",
   "language": "python",
   "name": "python2"
  },
  "language_info": {
   "codemirror_mode": {
    "name": "ipython",
    "version": 2
   },
   "file_extension": ".py",
   "mimetype": "text/x-python",
   "name": "python",
   "nbconvert_exporter": "python",
   "pygments_lexer": "ipython2",
   "version": "2.7.13"
  }
 },
 "nbformat": 4,
 "nbformat_minor": 1
}