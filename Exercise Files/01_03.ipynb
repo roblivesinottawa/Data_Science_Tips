{
 "cells": [
  {
   "cell_type": "code",
   "execution_count": null,
   "source": [
    "# conda install -c conda-forge pyarrow\n",
    "import pyarrow.parquet as pq"
   ],
   "outputs": [],
   "metadata": {
    "collapsed": true
   }
  },
  {
   "cell_type": "code",
   "execution_count": null,
   "source": [
    "table = pq.read_table('data/MonthlyProductSales.parquet')"
   ],
   "outputs": [],
   "metadata": {
    "collapsed": true
   }
  },
  {
   "cell_type": "code",
   "execution_count": null,
   "source": [
    "table_dict = dict(table.to_pydict())"
   ],
   "outputs": [],
   "metadata": {
    "collapsed": true
   }
  },
  {
   "cell_type": "code",
   "execution_count": null,
   "source": [
    "# table dict is more of a columnar dictionary\n",
    "table_dict"
   ],
   "outputs": [],
   "metadata": {}
  },
  {
   "cell_type": "code",
   "execution_count": null,
   "source": [
    "# going to convert it to a list of dictionaries\n",
    "items = table_dict.items()\n",
    "items"
   ],
   "outputs": [],
   "metadata": {}
  },
  {
   "cell_type": "code",
   "execution_count": null,
   "source": [
    "# get the keys\n",
    "keys = [item[0] for item in items]\n",
    "keys"
   ],
   "outputs": [],
   "metadata": {}
  },
  {
   "cell_type": "code",
   "execution_count": null,
   "source": [
    "# get the values\n",
    "values = [item[1] for item in items]\n",
    "values"
   ],
   "outputs": [],
   "metadata": {}
  },
  {
   "cell_type": "code",
   "execution_count": null,
   "source": [
    "# zip the values together\n",
    "pivoted_values = zip(*values)\n",
    "pivoted_values"
   ],
   "outputs": [],
   "metadata": {}
  },
  {
   "cell_type": "code",
   "execution_count": null,
   "source": [
    "# zip the column with the corresponding value then convert\n",
    "# it to a dictionary then append it to an array\n",
    "table_dictionary_array = []\n",
    "for record in pivoted_values:\n",
    "    table_dictionary_array.append(dict(zip(keys, record)))"
   ],
   "outputs": [],
   "metadata": {
    "collapsed": true
   }
  },
  {
   "cell_type": "code",
   "execution_count": null,
   "source": [
    "for record in table_dictionary_array:\n",
    "    print(record)"
   ],
   "outputs": [],
   "metadata": {}
  },
  {
   "cell_type": "code",
   "execution_count": null,
   "source": [],
   "outputs": [],
   "metadata": {
    "collapsed": true
   }
  }
 ],
 "metadata": {
  "kernelspec": {
   "display_name": "Python 2",
   "language": "python",
   "name": "python2"
  },
  "language_info": {
   "codemirror_mode": {
    "name": "ipython",
    "version": 2
   },
   "file_extension": ".py",
   "mimetype": "text/x-python",
   "name": "python",
   "nbconvert_exporter": "python",
   "pygments_lexer": "ipython2",
   "version": "2.7.13"
  }
 },
 "nbformat": 4,
 "nbformat_minor": 2
}